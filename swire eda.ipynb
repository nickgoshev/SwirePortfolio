{
 "cells": [
  {
   "cell_type": "markdown",
   "id": "82685b39",
   "metadata": {},
   "source": [
    "# Discussion of Missing Data"
   ]
  },
  {
   "cell_type": "markdown",
   "id": "d82e3c78",
   "metadata": {},
   "source": [
    "## NULL by Column"
   ]
  },
  {
   "cell_type": "code",
   "execution_count": null,
   "id": "2ddbef83",
   "metadata": {},
   "outputs": [],
   "source": [
    "def null_percentage_col(df):\n",
    "\n",
    "  return (df.isnull().sum() / len(df)) * 100"
   ]
  },
  {
   "cell_type": "code",
   "execution_count": null,
   "id": "32713f47",
   "metadata": {},
   "outputs": [],
   "source": [
    "null_percentages_col2 = null_percentage_col(group_2_df)\n",
    "print(null_percentages_col2)"
   ]
  },
  {
   "cell_type": "markdown",
   "id": "5c284926",
   "metadata": {},
   "source": [
    "## NULL by Row"
   ]
  },
  {
   "cell_type": "code",
   "execution_count": null,
   "id": "66c205a9",
   "metadata": {},
   "outputs": [],
   "source": [
    "def null_percentage_col(df):\n",
    "\n",
    "  return (df.isnull().sum() / len(df)) * 100"
   ]
  },
  {
   "cell_type": "code",
   "execution_count": 3,
   "id": "d54a30dd",
   "metadata": {},
   "outputs": [
    {
     "ename": "NameError",
     "evalue": "name 'null_percentage_row' is not defined",
     "output_type": "error",
     "traceback": [
      "\u001b[1;31m---------------------------------------------------------------------------\u001b[0m",
      "\u001b[1;31mNameError\u001b[0m                                 Traceback (most recent call last)",
      "\u001b[1;32m~\\AppData\\Local\\Temp\\ipykernel_8680\\1122859957.py\u001b[0m in \u001b[0;36m<module>\u001b[1;34m\u001b[0m\n\u001b[1;32m----> 1\u001b[1;33m \u001b[0mnull_percentage_row2\u001b[0m \u001b[1;33m=\u001b[0m \u001b[0mnull_percentage_row\u001b[0m\u001b[1;33m(\u001b[0m\u001b[0mgroup_2_df\u001b[0m\u001b[1;33m)\u001b[0m\u001b[1;33m\u001b[0m\u001b[1;33m\u001b[0m\u001b[0m\n\u001b[0m\u001b[0;32m      2\u001b[0m \u001b[0mprint\u001b[0m\u001b[1;33m(\u001b[0m\u001b[0mnull_percentage_row2\u001b[0m\u001b[1;33m)\u001b[0m\u001b[1;33m\u001b[0m\u001b[1;33m\u001b[0m\u001b[0m\n",
      "\u001b[1;31mNameError\u001b[0m: name 'null_percentage_row' is not defined"
     ]
    }
   ],
   "source": [
    "null_percentage_row2 = null_percentage_row(group_2_df)\n",
    "print(null_percentage_row2)"
   ]
  },
  {
   "cell_type": "markdown",
   "id": "f6157038",
   "metadata": {},
   "source": [
    "## Maintenance Activity Analysis"
   ]
  },
  {
   "cell_type": "code",
   "execution_count": null,
   "id": "becf7f0a",
   "metadata": {},
   "outputs": [],
   "source": [
    "group_2_df['MAINTENANCE_ACTIVITY_TYPE'].value_counts()"
   ]
  },
  {
   "cell_type": "markdown",
   "id": "675d51d8",
   "metadata": {},
   "source": [
    "### NULL on Planned Maintenance"
   ]
  },
  {
   "cell_type": "code",
   "execution_count": null,
   "id": "939a2a02",
   "metadata": {},
   "outputs": [],
   "source": [
    "group_2_df[group_2_df['MAINTENANCE_ACTIVITY_TYPE'] == \"Planned\"].isnull().sum()/len(group_2_df)"
   ]
  },
  {
   "cell_type": "markdown",
   "id": "4c5bacb4",
   "metadata": {},
   "source": [
    "### NULL on Unplanned Maintenance"
   ]
  },
  {
   "cell_type": "code",
   "execution_count": null,
   "id": "bd660f5e",
   "metadata": {},
   "outputs": [],
   "source": [
    "group_2_df[group_2_df['MAINTENANCE_ACTIVITY_TYPE'] == \"Unplanned\"].isnull().sum()/len(group_2_df)"
   ]
  },
  {
   "cell_type": "markdown",
   "id": "8f522d1c",
   "metadata": {},
   "source": [
    "## Deciding which Columns and Rows to Keep"
   ]
  },
  {
   "cell_type": "markdown",
   "id": "eccdd9d5",
   "metadata": {},
   "source": [
    "Our goal when handling null values in this dataset is to preserve as much of the predictive power as possible. In this case we are concerned with predicting when are where the context of different breaks and downtimes occurs and as such we should keep columns with large proportions of null values such as FUNCTIONAL_LOC and EQUIPMENT_ID. What is concerning upon examining the data is that all columns that give context pre-maintenence have very large amounts of missing values. As we have discussed above preserving these columns is crucial so rather than remove columns we intend to remove the rows that do not provide data that can provide predictive power. We have also noticed that only the unplanned maintence rows have this extreme amount of missing values, as it is hard to deduce what happened in these entries we plan to drop the rows where MAINTENENCE_ACTIVITY_TYPE is \"unplanned\" and where the crucial columns we list are all null.\n",
    "\n",
    "The following is a list of columns we have decided are necessary to provide sufficient information as well as the reasons for dropping others:\n",
    "\n",
    "ORDER_ID - this column is droppable as it serves as a unique identifier\n",
    "\n",
    "PLANT_ID - This is the numerical identifier for PRODUCTION_LOCATION, we will be dropping this to prevent perfect multicollinearity\n",
    "\n",
    "PRODUCTION_LOCATION - We are keepinng this feature over PLANT_ID for ease of interpretation\n",
    "\n",
    "EXECUTION_START_DATE - This column is kept as it provides information on maintenence duration\n",
    "\n",
    "EXECUTION_FINISH_DATE - This column is kept as it provides information on maintenence duration\n",
    "\n",
    "ACTUAL_START_TIME - This column is kept as it provides information on maintenence duration\n",
    "\n",
    "ACTUAL_FINISH_TIME - This column is kept as it provides information on maintenence duration\n",
    "\n",
    "ACTUAL_WORK_IN_MINUTES - This column is dropped since it redundant and can be calculated by ACTUAL_FINISH_TIME - ACTUAL_START_TIME\n",
    "\n",
    "MAINTENANCE_PLAN - Despite only being present for planned maintenence this column is kept to compare downtime durations between planned maintenence\n",
    "\n",
    "MAINTENANCE_ITEM - Despite only being present for planned maintenence this column is kept to compare downtime durations between planned maintenence\n",
    "\n",
    "MAINTENANCE_ACTIVITY_TYPE - This feature is kept as it is one of our targets\n",
    "\n",
    "ORDER_DESCRIPTION - This feature is kept as it provides additional context on the maintenence\n",
    "\n",
    "MAINTENANCE_TYPE_DESCRIPTION - This feature is kept as it provides additional context on the maintenence\n",
    "\n",
    "FUNCTIONAL_LOC - We are keeping this feature and not the following 5 as the following 5 is just a granularization of this which contains all info\n",
    "\n",
    "FUNCTIONAL_AREA_NODE_1_MODIFIED - information contained in FUNCTIONAL_LOC\n",
    "\n",
    "FUNCTIONAL_AREA_NODE_2_MODIFIED - information contained in FUNCTIONAL_LOC\n",
    "\n",
    "FUNCTIONAL_AREA_NODE_3_MODIFIED - information contained in FUNCTIONAL_LOC\n",
    "\n",
    "FUNCTIONAL_AREA_NODE_4_MODIFIED - information contained in FUNCTIONAL_LOC\n",
    "\n",
    "FUNCTIONAL_AREA_NODE_5_MODIFIED - information contained in FUNCTIONAL_LOC\n",
    "\n",
    "EQUIPMENT_ID - Kept as this provides information on what was needed maintenence\n",
    "\n",
    "EQUIPMENT_DESC - Kept as this provides information on what was needed maintenence\n",
    "\n",
    "EQUIP_CAT_DESC - TBD\n",
    "\n",
    "EQUIP_START_UP_DATE - TBD\n",
    "\n",
    "EQUIP_VALID_TO - TBD\n",
    "\n",
    "Notably some null values here represent a miniscule equipment piece, rather than null data. Our strategy for removing rows will be removing rows that do not contain values for ORDER_DESCRIPTION and MAINTENANCE_TYPE_DESCRIPTION and FUNCTIONAL_LOC and EQUIPMENT_ID as those are crucial columns that also have very similar rates of missing data which we believe are correlated to the missing data in the \"unplanned\" rows. In simpler terms from our observations if a row is missing one of these it is typically missing the others as well."
   ]
  }
 ],
 "metadata": {
  "kernelspec": {
   "display_name": "Python 3 (ipykernel)",
   "language": "python",
   "name": "python3"
  },
  "language_info": {
   "codemirror_mode": {
    "name": "ipython",
    "version": 3
   },
   "file_extension": ".py",
   "mimetype": "text/x-python",
   "name": "python",
   "nbconvert_exporter": "python",
   "pygments_lexer": "ipython3",
   "version": "3.7.1"
  }
 },
 "nbformat": 4,
 "nbformat_minor": 5
}
